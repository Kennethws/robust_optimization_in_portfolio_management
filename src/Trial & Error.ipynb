{
 "cells": [
  {
   "cell_type": "markdown",
   "metadata": {},
   "source": [
    "# Robust Optimization in Portfolio Management\n",
    "\n",
    "Author: Xiaochen (Lily) Wang, Chao (Kenneth) Wang"
   ]
  },
  {
   "cell_type": "markdown",
   "metadata": {},
   "source": [
    "## Preliminary setting"
   ]
  },
  {
   "cell_type": "code",
   "execution_count": 1,
   "metadata": {},
   "outputs": [],
   "source": [
    "using DataFrames, CSV # load data\n",
    "using JuMP, Gurobi # modeling\n",
    "using LinearAlgebra, Random, Printf, StatsBase, CategoricalArrays\n",
    "using Plots, StatsPlots # plot\n",
    "using Distributions"
   ]
  },
  {
   "cell_type": "code",
   "execution_count": 2,
   "metadata": {},
   "outputs": [],
   "source": [
    "const GRB_ENV = Gurobi.Env(output_flag=0);"
   ]
  },
  {
   "cell_type": "markdown",
   "metadata": {},
   "source": [
    "## Data"
   ]
  },
  {
   "cell_type": "code",
   "execution_count": 3,
   "metadata": {},
   "outputs": [],
   "source": [
    "r = CSV.read(\"returns.csv\", DataFrame, header=true);\n",
    "r = r[:, 2:11];"
   ]
  },
  {
   "cell_type": "code",
   "execution_count": 4,
   "metadata": {},
   "outputs": [],
   "source": [
    "# mean return of each stock\n",
    "mu = [mean(c) for c in eachcol(r)];\n",
    "\n",
    "# covariance matrix\n",
    "function covmat(df)\n",
    "    nc = ncol(df)\n",
    "    t = zeros(nc, nc)\n",
    "    for (i, c1) in enumerate(eachcol(df))\n",
    "        for (j, c2) in enumerate(eachcol(df))\n",
    "            sx, sy = skipmissings(c1, c2)\n",
    "            t[i, j] = cov(collect(sx), collect(sy))\n",
    "        end\n",
    "    end\n",
    "    return t\n",
    "    end;\n",
    "\n",
    "sigma = covmat(r);"
   ]
  },
  {
   "cell_type": "code",
   "execution_count": 5,
   "metadata": {},
   "outputs": [
    {
     "data": {
      "text/plain": [
       "10×10 Matrix{Float64}:\n",
       " 0.00106454   0.000241516  0.000312346  …  1.37765e-5   0.000210137\n",
       " 0.000241516  0.000377439  0.000201223     6.5931e-5    0.000185363\n",
       " 0.000312346  0.000201223  0.000627007     3.53197e-5   0.000331141\n",
       " 0.000305687  0.000139381  0.00018903      5.43634e-5   0.000158822\n",
       " 0.000764281  0.000207765  0.000260861     2.6253e-5    0.000188921\n",
       " 1.95074e-5   5.39378e-5   5.04883e-5   …  7.28555e-5   5.64445e-5\n",
       " 0.000265883  0.000122608  0.000171051     5.44263e-5   0.000138244\n",
       " 0.000200715  0.000271309  0.000182953     5.84385e-5   0.000174502\n",
       " 1.37765e-5   6.5931e-5    3.53197e-5      0.000284176  5.97214e-5\n",
       " 0.000210137  0.000185363  0.000331141     5.97214e-5   0.000528417"
      ]
     },
     "execution_count": 5,
     "metadata": {},
     "output_type": "execute_result"
    }
   ],
   "source": [
    "sigma"
   ]
  },
  {
   "cell_type": "code",
   "execution_count": 6,
   "metadata": {},
   "outputs": [
    {
     "data": {
      "text/plain": [
       "10×10 Matrix{Float64}:\n",
       "  4722.26     -292.663    -265.501   …    174.263     274.316     130.49\n",
       "  -292.663    6991.57     -291.937      -4882.38     -258.458    -291.674\n",
       "  -265.501    -291.937    2739.69        -236.957     231.229   -1260.99\n",
       "   -81.0516   -259.981    -119.95          37.7844    -86.2598   -304.484\n",
       " -5207.05     -203.838     -41.0953      -388.067    -156.145    -138.86\n",
       "   -65.0225   -722.726    -249.697   …   -332.656   -2706.0      -444.835\n",
       "   248.59       31.3553   -452.404       -270.397    -394.456     -88.9033\n",
       "   174.263   -4882.38     -236.957       7645.09     -151.402    -482.031\n",
       "   274.316    -258.458     231.229       -151.402    4396.87     -136.261\n",
       "   130.49     -291.674   -1260.99        -482.031    -136.261    3119.61"
      ]
     },
     "execution_count": 6,
     "metadata": {},
     "output_type": "execute_result"
    }
   ],
   "source": [
    "sigma_inv = inv(sigma)"
   ]
  },
  {
   "cell_type": "markdown",
   "metadata": {},
   "source": [
    "## Model"
   ]
  },
  {
   "cell_type": "code",
   "execution_count": 274,
   "metadata": {},
   "outputs": [],
   "source": [
    "required_return = 0.0004\n",
    "w_threshold = 0.4;"
   ]
  },
  {
   "cell_type": "markdown",
   "metadata": {},
   "source": [
    "### Baseline"
   ]
  },
  {
   "cell_type": "code",
   "execution_count": 275,
   "metadata": {},
   "outputs": [
    {
     "data": {
      "text/plain": [
       "train_baseline (generic function with 1 method)"
      ]
     },
     "execution_count": 275,
     "metadata": {},
     "output_type": "execute_result"
    }
   ],
   "source": [
    "function train_baseline()\n",
    "    model_base = Model(() -> Gurobi.Optimizer(GRB_ENV))\n",
    "\n",
    "    I = 10;\n",
    "    \n",
    "    # decision variable\n",
    "    @variable(model_base, w[1:I]>=0);\n",
    "    \n",
    "    # objective\n",
    "    @objective(model_base, Min, sum(sigma[i, j] * w[i] * w[j] for i=1:I, j=1:I));\n",
    "    \n",
    "    # constraint\n",
    "    @constraint(model_base, sum(mu[i] * w[i] for i=1:I) >= required_return);\n",
    "    @constraint(model_base, threshold_constraint[i in 1:I], w[i] <= w_threshold);\n",
    "    @constraint(model_base, sum(w[i] for i = 1:I) == 1);\n",
    " \n",
    "    optimize!(model_base)\n",
    "    \n",
    "    w_opt = value.(w)\n",
    "    \n",
    "    return sqrt(objective_value(model_base)), w_opt\n",
    "end"
   ]
  },
  {
   "cell_type": "code",
   "execution_count": 276,
   "metadata": {},
   "outputs": [],
   "source": [
    "risk_bl, weight_bl = train_baseline();"
   ]
  },
  {
   "cell_type": "code",
   "execution_count": 277,
   "metadata": {},
   "outputs": [
    {
     "data": {
      "text/plain": [
       "0.009801154197425544"
      ]
     },
     "execution_count": 277,
     "metadata": {},
     "output_type": "execute_result"
    }
   ],
   "source": [
    "risk_bl"
   ]
  },
  {
   "cell_type": "code",
   "execution_count": 278,
   "metadata": {},
   "outputs": [
    {
     "data": {
      "text/plain": [
       "10-element Vector{Float64}:\n",
       " 0.0001956700069706852\n",
       " 0.03222423789157364\n",
       " 6.4041527476231725e-6\n",
       " 5.833534427958041e-7\n",
       " 0.00022350791393546134\n",
       " 0.39999984545965533\n",
       " 0.20028926839062028\n",
       " 0.1436727189148497\n",
       " 0.22287808994954542\n",
       " 0.0005096739665449994"
      ]
     },
     "execution_count": 278,
     "metadata": {},
     "output_type": "execute_result"
    }
   ],
   "source": [
    "weight_bl"
   ]
  },
  {
   "cell_type": "markdown",
   "metadata": {},
   "source": [
    "### Robust"
   ]
  },
  {
   "cell_type": "code",
   "execution_count": 295,
   "metadata": {},
   "outputs": [
    {
     "data": {
      "text/plain": [
       "train_model (generic function with 1 method)"
      ]
     },
     "execution_count": 295,
     "metadata": {},
     "output_type": "execute_result"
    }
   ],
   "source": [
    "function train_model(rho)\n",
    "    model_robust = Model(() -> Gurobi.Optimizer(GRB_ENV))\n",
    "\n",
    "    I = 10;\n",
    "    \n",
    "    # decision variable\n",
    "    @variable(model_robust, w[1:I]>=0);\n",
    "    \n",
    "    # objective\n",
    "    @objective(model_robust, Min, sum(sigma[i, j] * w[i] * w[j] for i=1:I, j=1:I));\n",
    "    \n",
    "    # constraint\n",
    "    @constraint(model_robust, rho^2 * sum(sigma_inv[i, j] * w[i] * w[j] for i=1:I, j=1:I) \n",
    "        <= (sum(mu[i] * w[i] for i=1:I) - required_return)^2);\n",
    "    @constraint(model_robust, sum(mu[i] * w[i] for i=1:I) - required_return >= 0);\n",
    "    @constraint(model_robust, threshold_constraint[i in 1:I], w[i] <= w_threshold);\n",
    "    @constraint(model_robust, sum(w[i] for i = 1:I) == 1);\n",
    "\n",
    "    optimize!(model_robust)\n",
    "    \n",
    "    w_opt = value.(w)\n",
    "    \n",
    "    return sqrt(objective_value(model_robust)), w_opt\n",
    "end"
   ]
  },
  {
   "cell_type": "code",
   "execution_count": 407,
   "metadata": {},
   "outputs": [],
   "source": [
    "required_return = 0.0003\n",
    "risk_ro, weight_ro = train_model(0.0006);"
   ]
  },
  {
   "cell_type": "code",
   "execution_count": 297,
   "metadata": {},
   "outputs": [
    {
     "data": {
      "text/plain": [
       "0.10023703592908981"
      ]
     },
     "execution_count": 297,
     "metadata": {},
     "output_type": "execute_result"
    }
   ],
   "source": [
    "risk_ro"
   ]
  },
  {
   "cell_type": "code",
   "execution_count": 298,
   "metadata": {},
   "outputs": [
    {
     "data": {
      "text/plain": [
       "10-element Vector{Float64}:\n",
       " 0.08964992837001691\n",
       " 0.20283475621191632\n",
       " 0.04389979575642731\n",
       " 0.01786773000921725\n",
       " 0.07466721618530123\n",
       " 0.07975663664170851\n",
       " 0.05721274923664928\n",
       " 0.183409281828304\n",
       " 0.16073761524973096\n",
       " 0.090756165670171"
      ]
     },
     "execution_count": 298,
     "metadata": {},
     "output_type": "execute_result"
    }
   ],
   "source": [
    "weight_ro"
   ]
  },
  {
   "cell_type": "markdown",
   "metadata": {},
   "source": [
    "#### Get feasible $\\rho$"
   ]
  },
  {
   "cell_type": "code",
   "execution_count": 316,
   "metadata": {
    "scrolled": true
   },
   "outputs": [
    {
     "data": {
      "text/plain": [
       "42-element Vector{Float64}:\n",
       " 0.0001\n",
       " 0.00016\n",
       " 0.00017\n",
       " 0.00019\n",
       " 0.0002\n",
       " 0.00021\n",
       " 0.00022\n",
       " 0.00023\n",
       " 0.00024\n",
       " 0.00025\n",
       " 0.00026\n",
       " 0.00027\n",
       " 0.00028\n",
       " ⋮\n",
       " 0.00057\n",
       " 0.00058\n",
       " 0.00059\n",
       " 0.00064\n",
       " 0.00065\n",
       " 0.00067\n",
       " 0.0007\n",
       " 0.00083\n",
       " 0.00084\n",
       " 0.00085\n",
       " 0.00089\n",
       " 0.0009"
      ]
     },
     "execution_count": 316,
     "metadata": {},
     "output_type": "execute_result"
    }
   ],
   "source": [
    "# for required_return = 0:0.0001:0.0005\n",
    "# for w_threshold = 0.3:0.1:1\n",
    "\n",
    "rho_list = zeros(0)\n",
    "\n",
    "# for rho = 0.0001:0.00001:0.001\n",
    "for rho = 0.0001:0.00001:0.001\n",
    "    try\n",
    "        required_return = 0.0004\n",
    "        risk, returns = train_model(rho)\n",
    "        append!(rho_list, rho)\n",
    "    catch\n",
    "    end\n",
    "end\n",
    "\n",
    "rho_list"
   ]
  },
  {
   "cell_type": "code",
   "execution_count": 317,
   "metadata": {},
   "outputs": [],
   "source": [
    "n = length(rho_list)\n",
    "\n",
    "risk_list = zeros(n,)\n",
    "weight_list = zeros(n, 10)\n",
    "return_list = zeros(n,)\n",
    "for i = 1:n\n",
    "    risk, weight = train_model(rho_list[i])\n",
    "    risk_list[i] = risk\n",
    "    weight_list[i, :] = weight\n",
    "    return_list[i] = sum(weight[i] * mu[i] for i=1:10)\n",
    "end"
   ]
  },
  {
   "cell_type": "code",
   "execution_count": 318,
   "metadata": {},
   "outputs": [],
   "source": [
    "df = zeros(n, 3);\n",
    "\n",
    "df[:, 1] = rho_list;\n",
    "df[:, 2] = return_list;\n",
    "df[:, 3] = risk_list;\n",
    "\n",
    "using DelimitedFiles\n",
    "writedlm(\"robust.csv\",  df, ',')"
   ]
  },
  {
   "cell_type": "markdown",
   "metadata": {},
   "source": [
    "### Feasibility"
   ]
  },
  {
   "cell_type": "code",
   "execution_count": 319,
   "metadata": {},
   "outputs": [],
   "source": [
    "r_std = [sqrt(sigma[i, i]) for i = 1:10];"
   ]
  },
  {
   "cell_type": "code",
   "execution_count": 320,
   "metadata": {},
   "outputs": [],
   "source": [
    "n_samples = 10000\n",
    "r_uncertain_set = zeros(n_samples, 10);\n",
    "\n",
    "for i = 1:10\n",
    "    d = Normal(mu[i], r_std[i])\n",
    "    r_uncertain_set[:, i] = rand(d, n_samples)\n",
    "end"
   ]
  },
  {
   "cell_type": "markdown",
   "metadata": {},
   "source": [
    "#### Baseline"
   ]
  },
  {
   "cell_type": "code",
   "execution_count": 321,
   "metadata": {},
   "outputs": [
    {
     "name": "stdout",
     "output_type": "stream",
     "text": [
      "baseline: 0.4998\n",
      "robust: 0.4968\n"
     ]
    }
   ],
   "source": [
    "feasible_count_bl = 0\n",
    "feasible_count_ro = 0\n",
    "\n",
    "for sample = 1:n_samples\n",
    "    new_r = r_uncertain_set[sample, :]\n",
    "   \n",
    "    if sum(new_r .* weight_bl) >= required_return\n",
    "       feasible_count_bl = feasible_count_bl + 1\n",
    "    end\n",
    "    \n",
    "    if sum(new_r .* weight_ro) >= required_return\n",
    "       feasible_count_ro = feasible_count_ro + 1\n",
    "    end\n",
    "\n",
    "end\n",
    "\n",
    "println(\"baseline: \", feasible_count_bl/n_samples)\n",
    "println(\"robust: \", feasible_count_ro/n_samples)"
   ]
  },
  {
   "cell_type": "markdown",
   "metadata": {},
   "source": [
    "##### Robust"
   ]
  },
  {
   "cell_type": "code",
   "execution_count": 322,
   "metadata": {},
   "outputs": [],
   "source": [
    "feasible_count_list = zeros(n)\n",
    "\n",
    "for rho_i = 1:n\n",
    "    cur_weight = weight_list[rho_i, :]\n",
    "    \n",
    "    for sample = 1:n_samples\n",
    "        new_r = r_uncertain_set[sample, :]\n",
    "\n",
    "        if sum(new_r .* cur_weight) >= required_return\n",
    "           feasible_count_list[rho_i] = feasible_count_list[rho_i] + 1\n",
    "        end\n",
    "        \n",
    "    end\n",
    "end"
   ]
  },
  {
   "cell_type": "code",
   "execution_count": 323,
   "metadata": {},
   "outputs": [
    {
     "data": {
      "text/plain": [
       "42-element Vector{Float64}:\n",
       " 4998.0\n",
       " 4983.0\n",
       " 4989.0\n",
       " 4995.0\n",
       " 4988.0\n",
       " 4985.0\n",
       " 4995.0\n",
       " 4975.0\n",
       " 4983.0\n",
       " 4996.0\n",
       " 4999.0\n",
       " 5002.0\n",
       " 5008.0\n",
       "    ⋮\n",
       " 4998.0\n",
       " 4988.0\n",
       " 4995.0\n",
       " 4987.0\n",
       " 5000.0\n",
       " 4995.0\n",
       " 4994.0\n",
       " 4988.0\n",
       " 4988.0\n",
       " 4987.0\n",
       " 4984.0\n",
       " 4983.0"
      ]
     },
     "execution_count": 323,
     "metadata": {},
     "output_type": "execute_result"
    }
   ],
   "source": [
    "feasible_count_list"
   ]
  },
  {
   "cell_type": "code",
   "execution_count": 324,
   "metadata": {},
   "outputs": [
    {
     "name": "stdout",
     "output_type": "stream",
     "text": [
      "(5010.0, 24)(4975.0, 8)"
     ]
    }
   ],
   "source": [
    "print(findmax(feasible_count_list))\n",
    "print(findmin(feasible_count_list))"
   ]
  },
  {
   "cell_type": "code",
   "execution_count": 404,
   "metadata": {},
   "outputs": [
    {
     "data": {
      "text/plain": [
       "1.0"
      ]
     },
     "execution_count": 404,
     "metadata": {},
     "output_type": "execute_result"
    }
   ],
   "source": [
    "n_samples = 100\n",
    "r_uncertain_set = zeros(n_samples, 10);\n",
    "\n",
    "for i = 1:10\n",
    "    # r_uncertain_set[:, i] = rand(Uniform(mu[i] - 2*r_std[i], mu[i] + 2*r_std[i]), n_samples)\n",
    "    d = Normal(mu[i], r_std[i])\n",
    "    r_uncertain_set[:, i] = rand(d, n_samples)\n",
    "end\n",
    "\n",
    "rhos = [rho_list[i] for i in [ 1,  3,  4,  5,  7,  8,  9, 10, 11, 12, 13, 14, 16, 17, 18, 19, 20,\n",
    "21, 22, 25, 26, 27, 37, 38, 39, 40, 41]]\n",
    "\n",
    "feasible_total_count = zeros(length(rhos), 2)\n",
    "win_count = 0\n",
    "\n",
    "for i = 1:length(rhos)\n",
    "    feasible_count_bl = 0\n",
    "    feasible_count_ro = 0\n",
    "    risk_ro, weight_ro = train_model(rhos[i]);\n",
    "    for sample = 1:n_samples\n",
    "        new_r = r_uncertain_set[sample, :]\n",
    "    \n",
    "        if sum(new_r .* weight_bl) >= required_return\n",
    "        feasible_count_bl = feasible_count_bl + 1\n",
    "        end\n",
    "        \n",
    "        if sum(new_r .* weight_ro) >= required_return\n",
    "        feasible_count_ro = feasible_count_ro + 1\n",
    "        end\n",
    "    end\n",
    "    feasible_total_count[i, 1] = feasible_count_bl/n_samples\n",
    "    feasible_total_count[i, 2] = feasible_count_ro/n_samples\n",
    "    if feasible_count_bl/n_samples < feasible_count_ro/n_samples\n",
    "        win_count += 1\n",
    "    end\n",
    "end\n",
    "\n",
    "win_count/length(rhos)"
   ]
  },
  {
   "cell_type": "code",
   "execution_count": 405,
   "metadata": {},
   "outputs": [
    {
     "data": {
      "text/plain": [
       "27×2 Matrix{Float64}:\n",
       " 0.48  0.59\n",
       " 0.48  0.59\n",
       " 0.48  0.58\n",
       " 0.48  0.59\n",
       " 0.48  0.58\n",
       " 0.48  0.59\n",
       " 0.48  0.59\n",
       " 0.48  0.59\n",
       " 0.48  0.59\n",
       " 0.48  0.59\n",
       " 0.48  0.59\n",
       " 0.48  0.59\n",
       " 0.48  0.58\n",
       " ⋮     \n",
       " 0.48  0.6\n",
       " 0.48  0.6\n",
       " 0.48  0.6\n",
       " 0.48  0.6\n",
       " 0.48  0.58\n",
       " 0.48  0.61\n",
       " 0.48  0.61\n",
       " 0.48  0.59\n",
       " 0.48  0.57\n",
       " 0.48  0.57\n",
       " 0.48  0.57\n",
       " 0.48  0.57"
      ]
     },
     "execution_count": 405,
     "metadata": {},
     "output_type": "execute_result"
    }
   ],
   "source": [
    "feasible_total_count"
   ]
  },
  {
   "cell_type": "code",
   "execution_count": 203,
   "metadata": {},
   "outputs": [
    {
     "ename": "LoadError",
     "evalue": "UndefVarError: beta not defined",
     "output_type": "error",
     "traceback": [
      "UndefVarError: beta not defined",
      "",
      "Stacktrace:",
      " [1] top-level scope",
      "   @ ./In[203]:4",
      " [2] eval",
      "   @ ./boot.jl:368 [inlined]",
      " [3] include_string(mapexpr::typeof(REPL.softscope), mod::Module, code::String, filename::String)",
      "   @ Base ./loading.jl:1428"
     ]
    }
   ],
   "source": [
    "rho_list = zeros()\n",
    "\n",
    "for i=0.0001:0.00001:0.0002\n",
    "    risk, returns = train_model(beta, b, i)\n",
    "    append!( rho_list, returns )\n",
    "    print(i)\n",
    "end"
   ]
  },
  {
   "cell_type": "code",
   "execution_count": null,
   "metadata": {},
   "outputs": [],
   "source": [
    "# beta = 0.0004; # minimum target return\n",
    "# b = 0.4; # maximum budget weight for one single stock\n",
    "# rho = 0.0001;\n",
    "\n",
    "# rho_list = zeros(0)\n",
    "\n",
    "# for i=0.0001:0.00001:0.0002\n",
    "#     risk, returns = train_model(beta, b, i)\n",
    "#     append!( rho_list, returns )\n",
    "#     print(i)\n",
    "# end"
   ]
  },
  {
   "cell_type": "code",
   "execution_count": null,
   "metadata": {},
   "outputs": [],
   "source": []
  },
  {
   "cell_type": "code",
   "execution_count": null,
   "metadata": {},
   "outputs": [],
   "source": []
  },
  {
   "cell_type": "code",
   "execution_count": null,
   "metadata": {},
   "outputs": [],
   "source": [
    "objective_value(model_base), sum(mu[i] * w_opt[i] for i in I)"
   ]
  },
  {
   "cell_type": "code",
   "execution_count": null,
   "metadata": {},
   "outputs": [],
   "source": []
  },
  {
   "cell_type": "code",
   "execution_count": null,
   "metadata": {
    "scrolled": true
   },
   "outputs": [],
   "source": [
    "w_opt = value.(w)\n",
    "w_opt"
   ]
  },
  {
   "cell_type": "code",
   "execution_count": null,
   "metadata": {},
   "outputs": [],
   "source": []
  },
  {
   "cell_type": "code",
   "execution_count": null,
   "metadata": {},
   "outputs": [],
   "source": []
  },
  {
   "cell_type": "code",
   "execution_count": null,
   "metadata": {},
   "outputs": [],
   "source": []
  }
 ],
 "metadata": {
  "kernelspec": {
   "display_name": "Julia 1.8.0",
   "language": "julia",
   "name": "julia-1.8"
  },
  "language_info": {
   "file_extension": ".jl",
   "mimetype": "application/julia",
   "name": "julia",
   "version": "1.8.0"
  }
 },
 "nbformat": 4,
 "nbformat_minor": 2
}
