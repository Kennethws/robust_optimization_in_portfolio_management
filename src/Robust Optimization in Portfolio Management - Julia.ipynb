{
 "cells": [
  {
   "cell_type": "markdown",
   "metadata": {},
   "source": [
    "# Robust Optimization in Portfolio Management\n",
    "\n",
    "Author: Xiaochen (Lily) Wang, Chao (Kenneth) Wang"
   ]
  },
  {
   "cell_type": "markdown",
   "metadata": {},
   "source": [
    "## Preliminary setting"
   ]
  },
  {
   "cell_type": "code",
   "execution_count": 1,
   "metadata": {},
   "outputs": [],
   "source": [
    "using DataFrames, CSV # load data\n",
    "using JuMP, Gurobi # modeling\n",
    "using LinearAlgebra, Random, Printf, StatsBase, CategoricalArrays\n",
    "using Plots, StatsPlots # plot\n",
    "using Distributions"
   ]
  },
  {
   "cell_type": "code",
   "execution_count": 2,
   "metadata": {},
   "outputs": [],
   "source": [
    "const GRB_ENV = Gurobi.Env(output_flag=0);"
   ]
  },
  {
   "cell_type": "markdown",
   "metadata": {},
   "source": [
    "## Data"
   ]
  },
  {
   "cell_type": "code",
   "execution_count": 5,
   "metadata": {},
   "outputs": [],
   "source": [
    "r = CSV.read(\"returns_stable.csv\", DataFrame, header=true);\n",
    "r = r[:, 2:11];"
   ]
  },
  {
   "cell_type": "code",
   "execution_count": 6,
   "metadata": {},
   "outputs": [
    {
     "data": {
      "text/plain": [
       "10-element Vector{Float64}:\n",
       " 0.0026115411756341815\n",
       " 0.0021749143451663265\n",
       " 0.002194025834050713\n",
       " 0.0017130032634385564\n",
       " 0.0007245261442354494\n",
       " 0.0005826240601159012\n",
       " 0.0014216658358032193\n",
       " 0.0018013303526384415\n",
       " 0.0028287516071910023\n",
       " 0.0008757915482220001"
      ]
     },
     "execution_count": 6,
     "metadata": {},
     "output_type": "execute_result"
    }
   ],
   "source": [
    "# mean return of each stock\n",
    "mu = [mean(c) for c in eachcol(r)]"
   ]
  },
  {
   "cell_type": "code",
   "execution_count": 7,
   "metadata": {},
   "outputs": [],
   "source": [
    "# covariance matrix\n",
    "function covmat(df)\n",
    "    nc = ncol(df)\n",
    "    t = zeros(nc, nc)\n",
    "    for (i, c1) in enumerate(eachcol(df))\n",
    "        for (j, c2) in enumerate(eachcol(df))\n",
    "            sx, sy = skipmissings(c1, c2)\n",
    "            t[i, j] = cov(collect(sx), collect(sy))\n",
    "        end\n",
    "    end\n",
    "    return t\n",
    "    end;\n",
    "\n",
    "sigma = covmat(r);"
   ]
  },
  {
   "cell_type": "code",
   "execution_count": 8,
   "metadata": {},
   "outputs": [
    {
     "data": {
      "text/plain": [
       "10×10 Matrix{Float64}:\n",
       " 0.000273076  8.29e-5      0.000137522  …  5.77624e-5   5.5234e-5\n",
       " 8.29e-5      0.000237286  2.3551e-5       1.56764e-5   3.59023e-5\n",
       " 0.000137522  2.3551e-5    0.000456908     0.00012323   1.80563e-5\n",
       " 0.000135602  7.97819e-5   0.000147016     6.15471e-5   6.09688e-5\n",
       " 0.00013312   0.000108615  8.62121e-5      4.86934e-5   5.92861e-5\n",
       " 4.38083e-5   1.69038e-5   2.04754e-5   …  3.61631e-5   3.28267e-5\n",
       " 9.20725e-5   5.33401e-5   0.000100118     4.88441e-5   4.4062e-5\n",
       " 0.000137431  8.4762e-5    7.04834e-5      3.07469e-5   5.37733e-5\n",
       " 5.77624e-5   1.56764e-5   0.00012323      0.000441056  3.13844e-5\n",
       " 5.5234e-5    3.59023e-5   1.80563e-5      3.13844e-5   0.000251488"
      ]
     },
     "execution_count": 8,
     "metadata": {},
     "output_type": "execute_result"
    }
   ],
   "source": [
    "sigma"
   ]
  },
  {
   "cell_type": "code",
   "execution_count": 9,
   "metadata": {},
   "outputs": [
    {
     "data": {
      "text/plain": [
       "10×10 Matrix{Float64}:\n",
       "  7250.77        37.2829   -882.584   …  -1828.02       8.29027    -5.50679\n",
       "    37.2829    5944.01      543.666       -957.248     75.8049    100.894\n",
       "  -882.584      543.666    3067.74          32.0389  -577.615     334.306\n",
       " -1940.41     -1368.92    -1485.34       -1154.23      59.4005   -742.787\n",
       " -2798.32     -2681.54     -164.402        626.105   -200.133    -814.784\n",
       " -1197.88       -43.071     228.971   …   -640.556   -634.812    -911.444\n",
       "   841.098      959.901     -23.6363       648.168   -298.234      27.0806\n",
       " -1828.02      -957.248      32.0389      4603.93      41.2188   -351.442\n",
       "     8.29027     75.8049   -577.615         41.2188  2529.99     -127.822\n",
       "    -5.50679    100.894     334.306       -351.442   -127.822    4516.61"
      ]
     },
     "execution_count": 9,
     "metadata": {},
     "output_type": "execute_result"
    }
   ],
   "source": [
    "sigma_inv = inv(sigma)"
   ]
  },
  {
   "cell_type": "markdown",
   "metadata": {},
   "source": [
    "## Model"
   ]
  },
  {
   "cell_type": "code",
   "execution_count": 10,
   "metadata": {},
   "outputs": [],
   "source": [
    "required_return = 0.0004\n",
    "w_threshold = 0.3;"
   ]
  },
  {
   "cell_type": "markdown",
   "metadata": {},
   "source": [
    "### Baseline"
   ]
  },
  {
   "cell_type": "code",
   "execution_count": 11,
   "metadata": {},
   "outputs": [
    {
     "data": {
      "text/plain": [
       "train_baseline (generic function with 1 method)"
      ]
     },
     "execution_count": 11,
     "metadata": {},
     "output_type": "execute_result"
    }
   ],
   "source": [
    "function train_baseline()\n",
    "    model_base = Model(() -> Gurobi.Optimizer(GRB_ENV))\n",
    "\n",
    "    I = 10;\n",
    "    \n",
    "    # decision variable\n",
    "    @variable(model_base, w[1:I]>=0);\n",
    "    \n",
    "    # objective\n",
    "    @objective(model_base, Min, sum(sigma[i, j] * w[i] * w[j] for i=1:I, j=1:I));\n",
    "    \n",
    "    # constraint\n",
    "    @constraint(model_base, sum(mu[i] * w[i] for i=1:I) >= required_return);\n",
    "    @constraint(model_base, threshold_constraint[i in 1:I], w[i] <= w_threshold);\n",
    "    @constraint(model_base, sum(w[i] for i = 1:I) == 1);\n",
    " \n",
    "    optimize!(model_base)\n",
    "    \n",
    "    w_opt = value.(w)\n",
    "    \n",
    "    return sqrt(objective_value(model_base)), w_opt\n",
    "end"
   ]
  },
  {
   "cell_type": "code",
   "execution_count": 12,
   "metadata": {},
   "outputs": [],
   "source": [
    "risk_bl, weight_bl = train_baseline();"
   ]
  },
  {
   "cell_type": "code",
   "execution_count": 13,
   "metadata": {},
   "outputs": [
    {
     "data": {
      "text/plain": [
       "0.007880130000626975"
      ]
     },
     "execution_count": 13,
     "metadata": {},
     "output_type": "execute_result"
    }
   ],
   "source": [
    "risk_bl"
   ]
  },
  {
   "cell_type": "code",
   "execution_count": 14,
   "metadata": {},
   "outputs": [
    {
     "data": {
      "text/plain": [
       "10-element Vector{Float64}:\n",
       " 1.3118163452377615e-6\n",
       " 0.15329428702782977\n",
       " 0.0383907141176653\n",
       " 3.740682673811959e-8\n",
       " 0.016337438642738705\n",
       " 0.2999999506301124\n",
       " 0.23675419517297866\n",
       " 0.04784659642949795\n",
       " 0.06962707825487854\n",
       " 0.13774839050112644"
      ]
     },
     "execution_count": 14,
     "metadata": {},
     "output_type": "execute_result"
    }
   ],
   "source": [
    "weight_bl"
   ]
  },
  {
   "cell_type": "code",
   "execution_count": 15,
   "metadata": {},
   "outputs": [
    {
     "data": {
      "text/plain": [
       "0.0013446292059672734"
      ]
     },
     "execution_count": 15,
     "metadata": {},
     "output_type": "execute_result"
    }
   ],
   "source": [
    "sum(mu .* weight_bl)"
   ]
  },
  {
   "cell_type": "markdown",
   "metadata": {},
   "source": [
    "### Robust"
   ]
  },
  {
   "cell_type": "code",
   "execution_count": 16,
   "metadata": {},
   "outputs": [
    {
     "data": {
      "text/plain": [
       "train_model (generic function with 1 method)"
      ]
     },
     "execution_count": 16,
     "metadata": {},
     "output_type": "execute_result"
    }
   ],
   "source": [
    "function train_model(rho)\n",
    "    model_robust = Model(() -> Gurobi.Optimizer(GRB_ENV))\n",
    "\n",
    "    I = 10;\n",
    "    \n",
    "    # decision variable\n",
    "    @variable(model_robust, w[1:I]);\n",
    "    \n",
    "    # objective\n",
    "    @objective(model_robust, Min, sum(sigma[i, j] * w[i] * w[j] for i=1:I, j=1:I));\n",
    "    \n",
    "    # constraint\n",
    "    @constraint(model_robust, rho^2 * sum(sigma_inv[i, j] * w[i] * w[j] for i=1:I, j=1:I) \n",
    "        <= (sum(mu[i] * w[i] for i=1:I) - required_return)^2);\n",
    "    @constraint(model_robust, sum(mu[i] * w[i] for i=1:I) - required_return >= 0);\n",
    "    @constraint(model_robust, threshold_constraint[i in 1:I], w[i] <= w_threshold);\n",
    "    @constraint(model_robust, sum(w[i] for i = 1:I) == 1);\n",
    "\n",
    "    optimize!(model_robust)\n",
    "    \n",
    "    w_opt = value.(w)\n",
    "    \n",
    "    return sqrt(objective_value(model_robust)), w_opt\n",
    "end"
   ]
  },
  {
   "cell_type": "code",
   "execution_count": 22,
   "metadata": {},
   "outputs": [],
   "source": [
    "risk_ro, weight_ro = train_model(0.00019);"
   ]
  },
  {
   "cell_type": "code",
   "execution_count": 23,
   "metadata": {},
   "outputs": [
    {
     "data": {
      "text/plain": [
       "0.04230873303905182"
      ]
     },
     "execution_count": 23,
     "metadata": {},
     "output_type": "execute_result"
    }
   ],
   "source": [
    "risk_ro"
   ]
  },
  {
   "cell_type": "code",
   "execution_count": 24,
   "metadata": {},
   "outputs": [
    {
     "data": {
      "text/plain": [
       "10-element Vector{Float64}:\n",
       " 0.13543925852197983\n",
       " 0.0718159907155095\n",
       " 0.16127392881843355\n",
       " 0.12826600741817146\n",
       " 0.10824482346132544\n",
       " 0.034816756013454936\n",
       " 0.0916356753972918\n",
       " 0.10293417422847334\n",
       " 0.11234766318641047\n",
       " 0.05322572223895195"
      ]
     },
     "execution_count": 24,
     "metadata": {},
     "output_type": "execute_result"
    }
   ],
   "source": [
    "weight_ro"
   ]
  },
  {
   "cell_type": "code",
   "execution_count": 25,
   "metadata": {},
   "outputs": [
    {
     "data": {
      "text/plain": [
       "0.0018622814005557762"
      ]
     },
     "execution_count": 25,
     "metadata": {},
     "output_type": "execute_result"
    }
   ],
   "source": [
    "sum(mu .* weight_ro)"
   ]
  },
  {
   "cell_type": "markdown",
   "metadata": {},
   "source": [
    "#### Get feasible $\\rho$"
   ]
  },
  {
   "cell_type": "code",
   "execution_count": 26,
   "metadata": {
    "scrolled": true
   },
   "outputs": [
    {
     "data": {
      "text/plain": [
       "57"
      ]
     },
     "execution_count": 26,
     "metadata": {},
     "output_type": "execute_result"
    }
   ],
   "source": [
    "# for required_return = 0:0.0001:0.0005\n",
    "# for w_threshold = 0.3:0.1:1\n",
    "\n",
    "rho_list = zeros(0)\n",
    "\n",
    "for rho = 0:0.00001:0.006\n",
    "    try\n",
    "        risk, returns = train_model(rho)\n",
    "        append!(rho_list, rho)\n",
    "    catch\n",
    "    end\n",
    "end\n",
    "\n",
    "length(rho_list)"
   ]
  },
  {
   "cell_type": "code",
   "execution_count": 27,
   "metadata": {},
   "outputs": [],
   "source": [
    "n = length(rho_list)\n",
    "\n",
    "risk_list = zeros(n,)\n",
    "weight_list = zeros(n, 10)\n",
    "return_list = zeros(n,)\n",
    "for i = 1:n\n",
    "    risk, weight = train_model(rho_list[i])\n",
    "    risk_list[i] = risk\n",
    "    weight_list[i, :] = weight\n",
    "end"
   ]
  },
  {
   "cell_type": "markdown",
   "metadata": {},
   "source": [
    "### Feasibility trade off"
   ]
  },
  {
   "cell_type": "code",
   "execution_count": 28,
   "metadata": {},
   "outputs": [],
   "source": [
    "test = CSV.read(\"returns_covid.csv\", DataFrame, header=true);\n",
    "test = test[:, 2:11];"
   ]
  },
  {
   "cell_type": "code",
   "execution_count": 29,
   "metadata": {},
   "outputs": [
    {
     "data": {
      "text/plain": [
       "61"
      ]
     },
     "execution_count": 29,
     "metadata": {},
     "output_type": "execute_result"
    }
   ],
   "source": [
    "test_size = size(test)[1]"
   ]
  },
  {
   "cell_type": "markdown",
   "metadata": {},
   "source": [
    "#### Baseline vs Single Robust (Sanity Check)"
   ]
  },
  {
   "cell_type": "code",
   "execution_count": 31,
   "metadata": {},
   "outputs": [
    {
     "name": "stdout",
     "output_type": "stream",
     "text": [
      "baseline: 0.3770491803278688\n"
     ]
    }
   ],
   "source": [
    "feasible_count_bl = 0\n",
    "\n",
    "for i = 1:test_size\n",
    "    new_r = Vector(test[i, :])\n",
    "   \n",
    "    if sum(new_r .* weight_bl) >= required_return\n",
    "       feasible_count_bl = feasible_count_bl + 1\n",
    "    end\n",
    "\n",
    "end\n",
    "\n",
    "println(\"baseline: \", feasible_count_bl/test_size)"
   ]
  },
  {
   "cell_type": "markdown",
   "metadata": {},
   "source": [
    "##### Baseline vs Robust with Different Rho"
   ]
  },
  {
   "cell_type": "code",
   "execution_count": 32,
   "metadata": {},
   "outputs": [],
   "source": [
    "bl_feasible_count_list = zeros(n)\n",
    "bl_feasible_count_list .= feasible_count_bl/test_size;"
   ]
  },
  {
   "cell_type": "code",
   "execution_count": 34,
   "metadata": {},
   "outputs": [],
   "source": [
    "ro_feasible_count_list = zeros(n)\n",
    "\n",
    "for rho_idx = 1:n\n",
    "    cur_weight = weight_list[rho_idx, :]\n",
    "    \n",
    "    for i = 1:size(test)[1]\n",
    "        new_r = Vector(test[i, :])\n",
    "\n",
    "        if sum(new_r .* cur_weight) >= required_return\n",
    "           ro_feasible_count_list[rho_idx] = ro_feasible_count_list[rho_idx] + 1\n",
    "        end\n",
    "        \n",
    "    end\n",
    "end"
   ]
  },
  {
   "cell_type": "code",
   "execution_count": 35,
   "metadata": {},
   "outputs": [],
   "source": [
    "risk_bl_list = zeros(n)\n",
    "risk_bl_list .= round(risk_bl, digits = 6);"
   ]
  },
  {
   "cell_type": "code",
   "execution_count": 36,
   "metadata": {},
   "outputs": [],
   "source": [
    "df = zeros(n, 5);\n",
    "\n",
    "df[:, 1] = rho_list; \n",
    "df[:, 2] = risk_bl_list\n",
    "df[:, 3] = risk_list\n",
    "df[:, 4] = bl_feasible_count_list;\n",
    "df[:, 5] = ro_feasible_count_list/test_size;"
   ]
  },
  {
   "cell_type": "code",
   "execution_count": 37,
   "metadata": {},
   "outputs": [
    {
     "data": {
      "text/plain": [
       "57×5 Matrix{Float64}:\n",
       " 0.00018  0.00788  0.0102758   0.377049  0.442623\n",
       " 0.00019  0.00788  0.0423087   0.377049  0.442623\n",
       " 0.00026  0.00788  0.00947982  0.377049  0.409836\n",
       " 0.0003   0.00788  0.0645611   0.377049  0.442623\n",
       " 0.00032  0.00788  0.058315    0.377049  0.442623\n",
       " 0.00043  0.00788  0.155997    0.377049  0.442623\n",
       " 0.00044  0.00788  0.174328    0.377049  0.42623\n",
       " 0.00045  0.00788  0.196952    0.377049  0.42623\n",
       " 0.00046  0.00788  1.20172e13  0.377049  0.442623\n",
       " 0.00053  0.00788  0.092211    0.377049  0.442623\n",
       " 0.00059  0.00788  0.114688    0.377049  0.442623\n",
       " 0.0006   0.00788  0.108113    0.377049  0.442623\n",
       " 0.00063  0.00788  0.645433    0.377049  0.42623\n",
       " ⋮                                       \n",
       " 0.00523  0.00788  0.334505    0.377049  0.442623\n",
       " 0.00524  0.00788  0.334104    0.377049  0.442623\n",
       " 0.00525  0.00788  0.336105    0.377049  0.442623\n",
       " 0.00526  0.00788  0.336708    0.377049  0.442623\n",
       " 0.00529  0.00788  0.339095    0.377049  0.442623\n",
       " 0.0053   0.00788  0.339725    0.377049  0.442623\n",
       " 0.00531  0.00788  0.340443    0.377049  0.442623\n",
       " 0.00561  0.00788  1.61212e11  0.377049  0.442623\n",
       " 0.00562  0.00788  7.20353e13  0.377049  0.442623\n",
       " 0.00565  0.00788  1.07402e12  0.377049  0.442623\n",
       " 0.00571  0.00788  5.92658e12  0.377049  0.442623\n",
       " 0.00594  0.00788  4.50818e12  0.377049  0.442623"
      ]
     },
     "execution_count": 37,
     "metadata": {},
     "output_type": "execute_result"
    }
   ],
   "source": [
    "df[:, :]"
   ]
  },
  {
   "cell_type": "code",
   "execution_count": 38,
   "metadata": {},
   "outputs": [],
   "source": [
    "using DelimitedFiles\n",
    "writedlm(\"robust_rho.csv\",  df, ',')"
   ]
  },
  {
   "cell_type": "code",
   "execution_count": 39,
   "metadata": {},
   "outputs": [
    {
     "data": {
      "text/plain": [
       "10-element Vector{Float64}:\n",
       " 0.0\n",
       " 0.153\n",
       " 0.038\n",
       " 0.0\n",
       " 0.016\n",
       " 0.3\n",
       " 0.237\n",
       " 0.048\n",
       " 0.07\n",
       " 0.138"
      ]
     },
     "execution_count": 39,
     "metadata": {},
     "output_type": "execute_result"
    }
   ],
   "source": [
    "weight_bl = [round(w, digits = 3) for w in weight_bl]"
   ]
  },
  {
   "cell_type": "code",
   "execution_count": 40,
   "metadata": {},
   "outputs": [
    {
     "data": {
      "text/plain": [
       "10-element Vector{Float64}:\n",
       " 0.133\n",
       " 0.083\n",
       " 0.145\n",
       " 0.125\n",
       " 0.101\n",
       " 0.037\n",
       " 0.089\n",
       " 0.107\n",
       " 0.119\n",
       " 0.061"
      ]
     },
     "execution_count": 40,
     "metadata": {},
     "output_type": "execute_result"
    }
   ],
   "source": [
    "weight_ro = [round(w, digits = 3) for w in weight_list[1, :]]"
   ]
  },
  {
   "cell_type": "code",
   "execution_count": 41,
   "metadata": {},
   "outputs": [
    {
     "data": {
      "text/plain": [
       "0.0013447850190169272"
      ]
     },
     "execution_count": 41,
     "metadata": {},
     "output_type": "execute_result"
    }
   ],
   "source": [
    "sum(weight_bl .* mu)"
   ]
  },
  {
   "cell_type": "code",
   "execution_count": 42,
   "metadata": {},
   "outputs": [
    {
     "data": {
      "text/plain": [
       "0.001864161584483464"
      ]
     },
     "execution_count": 42,
     "metadata": {},
     "output_type": "execute_result"
    }
   ],
   "source": [
    "sum(weight_ro .* mu)"
   ]
  },
  {
   "cell_type": "code",
   "execution_count": 43,
   "metadata": {
    "scrolled": true
   },
   "outputs": [],
   "source": [
    " # mean return of each stock\n",
    "test_mu = [mean(c) for c in eachcol(test)]\n",
    "test_sigma = covmat(test)\n",
    "test_std = [sqrt(test_sigma[i, i]) for i = 1:10];"
   ]
  },
  {
   "cell_type": "code",
   "execution_count": 44,
   "metadata": {},
   "outputs": [
    {
     "data": {
      "text/plain": [
       "10-element Vector{Float64}:\n",
       " -0.0018540586434201913\n",
       " -0.009614645376845612\n",
       " -0.005921801167942255\n",
       " -0.008921102843116882\n",
       " -0.009601225615125705\n",
       " -0.0012489489420897863\n",
       " -0.006090971134191329\n",
       " -0.0030250566710084926\n",
       " -0.004358122729417964\n",
       " -0.0013705709473801103"
      ]
     },
     "execution_count": 44,
     "metadata": {},
     "output_type": "execute_result"
    }
   ],
   "source": [
    "test_mu"
   ]
  },
  {
   "cell_type": "code",
   "execution_count": 45,
   "metadata": {},
   "outputs": [
    {
     "data": {
      "text/plain": [
       "10-element Vector{Float64}:\n",
       " 0.042018878496089825\n",
       " 0.07524643800139028\n",
       " 0.045995450866070535\n",
       " 0.05972447406334571\n",
       " 0.06609958874458936\n",
       " 0.03221018338895366\n",
       " 0.05031459876089027\n",
       " 0.038051379740848476\n",
       " 0.035389532000139126\n",
       " 0.0498191469310034"
      ]
     },
     "execution_count": 45,
     "metadata": {},
     "output_type": "execute_result"
    }
   ],
   "source": [
    "test_std"
   ]
  },
  {
   "cell_type": "code",
   "execution_count": 46,
   "metadata": {},
   "outputs": [
    {
     "data": {
      "text/plain": [
       "10-element Vector{Float64}:\n",
       " -0.04412442001736733\n",
       " -0.12777542209596643\n",
       " -0.12874754038579475\n",
       " -0.14937097367579782\n",
       " -0.14525393875331216\n",
       " -0.038774971474335285\n",
       " -0.12105773044394948\n",
       " -0.07949926366956594\n",
       " -0.12314722696533063\n",
       " -0.027510927661572985"
      ]
     },
     "execution_count": 46,
     "metadata": {},
     "output_type": "execute_result"
    }
   ],
   "source": [
    "test_mu./test_std"
   ]
  },
  {
   "cell_type": "markdown",
   "metadata": {},
   "source": [
    "### Simulation"
   ]
  },
  {
   "cell_type": "code",
   "execution_count": null,
   "metadata": {},
   "outputs": [],
   "source": [
    "mu = [mean(c) for c in eachcol(r)];\n",
    "r_std = [sqrt(sigma[i, i]) for i = 1:10];\n",
    "\n",
    "n_samples = 100\n",
    "r_uncertain_set = zeros(n_samples, 10);\n",
    "\n",
    "for i = 1:10\n",
    "    d = Normal(mu[i], r_std[i])\n",
    "    r_uncertain_set[:, i] = rand(d, n_samples)\n",
    "end"
   ]
  },
  {
   "cell_type": "code",
   "execution_count": null,
   "metadata": {},
   "outputs": [],
   "source": [
    "# simulation\n",
    "ro_feasible_count_list = zeros(n)\n",
    "\n",
    "for rho_i = 1:n\n",
    "    cur_weight = weight_list[rho_i, :]\n",
    "    \n",
    "    for sample = 1:n_samples\n",
    "        new_r = r_uncertain_set[sample, :]\n",
    "\n",
    "        if sum(new_r .* cur_weight) >= required_return\n",
    "           ro_feasible_count_list[rho_i] = ro_feasible_count_list[rho_i] + 1\n",
    "        end\n",
    "        \n",
    "    end\n",
    "end"
   ]
  },
  {
   "cell_type": "code",
   "execution_count": null,
   "metadata": {},
   "outputs": [],
   "source": []
  },
  {
   "cell_type": "code",
   "execution_count": null,
   "metadata": {},
   "outputs": [],
   "source": []
  },
  {
   "cell_type": "code",
   "execution_count": null,
   "metadata": {},
   "outputs": [],
   "source": []
  },
  {
   "cell_type": "code",
   "execution_count": null,
   "metadata": {},
   "outputs": [],
   "source": []
  }
 ],
 "metadata": {
  "kernelspec": {
   "display_name": "Julia 1.8.0",
   "language": "julia",
   "name": "julia-1.8"
  },
  "language_info": {
   "file_extension": ".jl",
   "mimetype": "application/julia",
   "name": "julia",
   "version": "1.8.0"
  }
 },
 "nbformat": 4,
 "nbformat_minor": 2
}
